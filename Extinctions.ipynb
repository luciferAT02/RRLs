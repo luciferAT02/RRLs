{
 "cells": [
  {
   "cell_type": "code",
   "execution_count": 3,
   "id": "f5df11b5-75e0-4037-a6d0-bc7f6ddc9343",
   "metadata": {
    "tags": []
   },
   "outputs": [],
   "source": [
    "import matplotlib.pyplot as plt\n",
    "import pandas as pd\n",
    "from astroquery.simbad import Simbad\n",
    "import numpy as np\n",
    "\n",
    "df=pd.read_csv('first_ten.txt') #reads the files with gaiaid and period\n",
    "period=df['period']\n",
    "gaiaid_list=df['gaiaid'].tolist()\n",
    "RA=[]\n",
    "DEC=[]\n",
    "ID=[]\n",
    "for obj_name in gaiaid_list:\n",
    "    result_table = Simbad.query_object('GAIA EDR3 '+str(obj_name)) # Queries Simbad for Object wrt gaiaid\n",
    "    Id=np.array(result_table['MAIN_ID'])[0] # ID is the name of the star\n",
    "    ID.append(Id)\n",
    "    ra=np.array(result_table['RA'])[0] # Right Ascension\n",
    "    RA.append(ra)\n",
    "    dec=np.array(result_table['DEC'])[0] # Declination\n",
    "    DEC.append(dec)\n",
    "\n",
    "df1=pd.DataFrame({'objname':ID,'ra':RA,'dec':DEC})\n",
    "df1.to_csv(\"irsa_dust_reddening.txt\",index=False) # Makes a .txt input for the IRSA dust reddening website"
   ]
  },
  {
   "cell_type": "code",
   "execution_count": 17,
   "id": "08ae8ff1-922b-4c61-beb5-1db59fdb0915",
   "metadata": {
    "tags": []
   },
   "outputs": [],
   "source": [
    "df2=pd.read_csv(\"extinction_coeff - Sheet1.csv\",usecols=['AV_SandF','AV_SFD'])\n",
    "df2['AV_SandF']\n",
    "df['AV_SandF']=df2['AV_SandF']\n",
    "df['AV_SFD']=df2['AV_SFD']\n",
    "df.to_csv(\"new_first_ten.txt\",index=False)"
   ]
  }
 ],
 "metadata": {
  "kernelspec": {
   "display_name": "Python 3 (ipykernel)",
   "language": "python",
   "name": "python3"
  },
  "language_info": {
   "codemirror_mode": {
    "name": "ipython",
    "version": 3
   },
   "file_extension": ".py",
   "mimetype": "text/x-python",
   "name": "python",
   "nbconvert_exporter": "python",
   "pygments_lexer": "ipython3",
   "version": "3.11.7"
  }
 },
 "nbformat": 4,
 "nbformat_minor": 5
}
